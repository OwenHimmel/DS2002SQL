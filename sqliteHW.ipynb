{
  "nbformat": 4,
  "nbformat_minor": 0,
  "metadata": {
    "colab": {
      "provenance": [],
      "authorship_tag": "ABX9TyN/sPNsgrQ58ZH/OSHtxHau",
      "include_colab_link": true
    },
    "kernelspec": {
      "name": "python3",
      "display_name": "Python 3"
    },
    "language_info": {
      "name": "python"
    }
  },
  "cells": [
    {
      "cell_type": "markdown",
      "metadata": {
        "id": "view-in-github",
        "colab_type": "text"
      },
      "source": [
        "<a href=\"https://colab.research.google.com/github/OwenHimmel/DS2002SQL/blob/main/sqliteHW.ipynb\" target=\"_parent\"><img src=\"https://colab.research.google.com/assets/colab-badge.svg\" alt=\"Open In Colab\"/></a>"
      ]
    },
    {
      "cell_type": "code",
      "execution_count": 28,
      "metadata": {
        "id": "D9G6Txnn4XJA"
      },
      "outputs": [],
      "source": [
        "import sqlite3\n",
        "\n",
        "connection = sqlite3.connect('student_grades.db')\n",
        "\n",
        "cursor = connection.cursor()"
      ]
    },
    {
      "cell_type": "code",
      "source": [
        "cursor.execute(\"DROP TABLE IF EXISTS students\")\n",
        "cursor.execute('''\n",
        "CREATE TABLE IF NOT EXISTS students (\n",
        "    student_id INTEGER PRIMARY KEY AUTOINCREMENT,\n",
        "    first_name TEXT NOT NULL,\n",
        "    last_name TEXT NOT NULL\n",
        ")\n",
        "''')\n"
      ],
      "metadata": {
        "colab": {
          "base_uri": "https://localhost:8080/"
        },
        "id": "k715tfuz5o18",
        "outputId": "6b46f3ec-a568-4c3e-daba-6bd5b5821d85"
      },
      "execution_count": 29,
      "outputs": [
        {
          "output_type": "execute_result",
          "data": {
            "text/plain": [
              "<sqlite3.Cursor at 0x7e2b2b28e6c0>"
            ]
          },
          "metadata": {},
          "execution_count": 29
        }
      ]
    },
    {
      "cell_type": "code",
      "source": [
        "cursor.execute(\"DROP TABLE IF EXISTS grades\")\n",
        "cursor.execute('''\n",
        "CREATE TABLE IF NOT EXISTS grades (\n",
        "    grade_id INTEGER PRIMARY KEY AUTOINCREMENT,\n",
        "    student_id INTEGER,\n",
        "    subject TEXT NOT NULL,\n",
        "    grade INTEGER NOT NULL,\n",
        "    FOREIGN KEY (student_id) REFERENCES students(student_id)\n",
        ")\n",
        "''')"
      ],
      "metadata": {
        "colab": {
          "base_uri": "https://localhost:8080/"
        },
        "id": "09Jain6Y5smW",
        "outputId": "ec61b805-0e41-4f6a-e9b9-0afc6485891b"
      },
      "execution_count": 30,
      "outputs": [
        {
          "output_type": "execute_result",
          "data": {
            "text/plain": [
              "<sqlite3.Cursor at 0x7e2b2b28e6c0>"
            ]
          },
          "metadata": {},
          "execution_count": 30
        }
      ]
    },
    {
      "cell_type": "code",
      "source": [],
      "metadata": {
        "id": "0X8Ohs-Q5v_F"
      },
      "execution_count": null,
      "outputs": []
    },
    {
      "cell_type": "code",
      "source": [
        "student_info = [\n",
        "    ('Chloe', 'Roberts'),\n",
        "    ('Owen', 'McKenna'),\n",
        "    ('Dylan', 'Right'),\n",
        "    ('William', 'Williams'),\n",
        "    ('James', 'Brown')\n",
        "]\n",
        "\n",
        "\n",
        "# Insert data into the table\n",
        "cursor.executemany('''\n",
        "INSERT INTO students (first_name, last_name) VALUES (?, ?)\n",
        "''', student_info)\n",
        "\n",
        "connection.commit()"
      ],
      "metadata": {
        "id": "OaNJ-Ptp52Mx"
      },
      "execution_count": 32,
      "outputs": []
    },
    {
      "cell_type": "code",
      "source": [
        "grades_data = [\n",
        "    ('1', 'Balling', '100'),\n",
        "    ('1', 'Smelting', '87'),\n",
        "    ('1', 'Intrepretive Dance', '99'),\n",
        "    ('2', 'Balling', '86'),\n",
        "    ('2', 'Smelting', '87'),\n",
        "    ('2', 'Intrepretive Dance', '60'),\n",
        "    ('3', 'Balling', '56'),\n",
        "    ('3', 'Smelting', '95'),\n",
        "    ('3', 'Intrepretive Dance', '84'),\n",
        "    ('4', 'Balling', '91'),\n",
        "    ('4', 'Smelting', '82'),\n",
        "    ('4', 'Intrepretive Dance', '79'),\n",
        "    ('5', 'Balling', '89'),\n",
        "    ('5', 'Smelting', '88'),\n",
        "    ('5', 'Intrepretive Dance', '90'),\n",
        "\n",
        "]\n",
        "# Insert data into the flavor_details table\n",
        "cursor.executemany('''\n",
        "INSERT INTO grades (student_id, subject, grade) VALUES (?, ?, ?)\n",
        "''', grades_data)\n",
        "\n",
        "\n",
        "\n",
        "# Commit the transaction\n",
        "connection.commit()\n"
      ],
      "metadata": {
        "id": "9Zu2Cleb54G8"
      },
      "execution_count": 33,
      "outputs": []
    },
    {
      "cell_type": "code",
      "source": [
        "cursor.execute(\"SELECT * FROM students\")\n",
        "rows = cursor.fetchall()\n",
        "\n",
        "# Print the results\n",
        "print(\"All student data:\")\n",
        "for row in rows:\n",
        "    print(row)"
      ],
      "metadata": {
        "colab": {
          "base_uri": "https://localhost:8080/"
        },
        "id": "SHp7EzM26HXH",
        "outputId": "4681f4f5-1edd-4b1b-b521-f83f25aadff2"
      },
      "execution_count": 34,
      "outputs": [
        {
          "output_type": "stream",
          "name": "stdout",
          "text": [
            "All student data:\n",
            "(1, 'Chloe', 'Roberts')\n",
            "(2, 'Owen', 'McKenna')\n",
            "(3, 'Dylan', 'Right')\n",
            "(4, 'William', 'Williams')\n",
            "(5, 'James', 'Brown')\n"
          ]
        }
      ]
    },
    {
      "cell_type": "code",
      "source": [
        "cursor.execute('''\n",
        "    SELECT\n",
        "        s.first_name,\n",
        "        s.last_name,\n",
        "        g.subject,\n",
        "        g.grade\n",
        "    FROM\n",
        "        students s\n",
        "    JOIN\n",
        "        grades g ON s.student_id = g.student_id\n",
        "''')\n",
        "name_and_grade = cursor.fetchall()\n",
        "\n",
        "# Print the results\n",
        "print(\"Students and their grades:\")\n",
        "for row in name_and_grade:\n",
        "    print(row)"
      ],
      "metadata": {
        "colab": {
          "base_uri": "https://localhost:8080/"
        },
        "id": "flTKnO9K7Lc8",
        "outputId": "ccd1ff5b-c859-47a2-a174-91718fb59ced"
      },
      "execution_count": 35,
      "outputs": [
        {
          "output_type": "stream",
          "name": "stdout",
          "text": [
            "Students and their grades:\n",
            "('Chloe', 'Roberts', 'Balling', 100)\n",
            "('Chloe', 'Roberts', 'Smelting', 87)\n",
            "('Chloe', 'Roberts', 'Intrepretive Dance', 99)\n",
            "('Owen', 'McKenna', 'Balling', 86)\n",
            "('Owen', 'McKenna', 'Smelting', 87)\n",
            "('Owen', 'McKenna', 'Intrepretive Dance', 60)\n",
            "('Dylan', 'Right', 'Balling', 56)\n",
            "('Dylan', 'Right', 'Smelting', 95)\n",
            "('Dylan', 'Right', 'Intrepretive Dance', 84)\n",
            "('William', 'Williams', 'Balling', 91)\n",
            "('William', 'Williams', 'Smelting', 82)\n",
            "('William', 'Williams', 'Intrepretive Dance', 79)\n",
            "('James', 'Brown', 'Balling', 89)\n",
            "('James', 'Brown', 'Smelting', 88)\n",
            "('James', 'Brown', 'Intrepretive Dance', 90)\n"
          ]
        }
      ]
    },
    {
      "cell_type": "code",
      "source": [
        "cursor.execute('''\n",
        "    SELECT\n",
        "        s.first_name,\n",
        "        s.last_name,\n",
        "        ROUND(AVG(g.grade), 2) AS average_grade\n",
        "    FROM\n",
        "        students s\n",
        "    JOIN\n",
        "        grades g ON s.student_id = g.student_id\n",
        "    GROUP BY\n",
        "        s.student_id\n",
        "''')\n",
        "average_grades = cursor.fetchall()\n",
        "\n",
        "# Print the results\n",
        "print(\"Average grades for each student:\")\n",
        "for row in average_grades:\n",
        "    print(row)"
      ],
      "metadata": {
        "colab": {
          "base_uri": "https://localhost:8080/"
        },
        "id": "It_zcXQL7OEk",
        "outputId": "e35b59fe-494e-4818-bc7b-2827d24b3363"
      },
      "execution_count": 36,
      "outputs": [
        {
          "output_type": "stream",
          "name": "stdout",
          "text": [
            "Average grades for each student:\n",
            "('Chloe', 'Roberts', 95.33)\n",
            "('Owen', 'McKenna', 77.67)\n",
            "('Dylan', 'Right', 78.33)\n",
            "('William', 'Williams', 84.0)\n",
            "('James', 'Brown', 89.0)\n"
          ]
        }
      ]
    },
    {
      "cell_type": "code",
      "source": [
        "cursor.execute('''\n",
        "    SELECT\n",
        "        s.first_name,\n",
        "        s.last_name,\n",
        "        ROUND(AVG(g.grade), 2) AS average_grade\n",
        "    FROM\n",
        "        students s\n",
        "    JOIN\n",
        "        grades g ON s.student_id = g.student_id\n",
        "    GROUP BY\n",
        "        s.student_id\n",
        "    ORDER BY\n",
        "        average_grade DESC\n",
        "    LIMIT 1\n",
        "''')\n",
        "highest_grade = cursor.fetchone()\n",
        "\n",
        "# Print the results\n",
        "print(\"Student with the highest average grade:\")\n",
        "print(highest_grade)\n"
      ],
      "metadata": {
        "colab": {
          "base_uri": "https://localhost:8080/"
        },
        "id": "qU4W78gC8Aa2",
        "outputId": "1a3b75d4-773b-49b6-8af3-8a941a4f324f"
      },
      "execution_count": 37,
      "outputs": [
        {
          "output_type": "stream",
          "name": "stdout",
          "text": [
            "Student with the highest average grade:\n",
            "('Chloe', 'Roberts', 95.33)\n"
          ]
        }
      ]
    },
    {
      "cell_type": "code",
      "source": [
        "cursor.execute('''\n",
        "    SELECT AVG(grade)\n",
        "    FROM grades\n",
        "    WHERE subject = 'Balling'\n",
        "''')\n",
        "average_balling_grade = cursor.fetchone()[0]\n",
        "\n",
        "# Print the result\n",
        "print(\"Average grade in Balling:\", average_balling_grade)\n"
      ],
      "metadata": {
        "colab": {
          "base_uri": "https://localhost:8080/"
        },
        "id": "OMfkKleV8jHs",
        "outputId": "adecac47-2a9f-4776-9074-9e43c0c654b2"
      },
      "execution_count": 38,
      "outputs": [
        {
          "output_type": "stream",
          "name": "stdout",
          "text": [
            "Average grade in Balling: 84.4\n"
          ]
        }
      ]
    },
    {
      "cell_type": "code",
      "source": [
        "cursor.execute('''\n",
        "    SELECT\n",
        "        s.first_name,\n",
        "        s.last_name,\n",
        "        g.subject,\n",
        "        g.grade\n",
        "    FROM\n",
        "        students s\n",
        "    JOIN\n",
        "        grades g ON s.student_id = g.student_id\n",
        "    WHERE\n",
        "        g.grade > 90\n",
        "''')\n",
        "above_90_students = cursor.fetchall()\n",
        "\n",
        "# Print the results\n",
        "print(\"Students with grades above 90:\")\n",
        "for row in above_90_students:\n",
        "    print(row)"
      ],
      "metadata": {
        "colab": {
          "base_uri": "https://localhost:8080/"
        },
        "id": "G6lLJQo08q9G",
        "outputId": "a62cfc9e-f8ba-4a53-fc35-7cde8312d63f"
      },
      "execution_count": 39,
      "outputs": [
        {
          "output_type": "stream",
          "name": "stdout",
          "text": [
            "Students with grades above 90:\n",
            "('Chloe', 'Roberts', 'Balling', 100)\n",
            "('Chloe', 'Roberts', 'Intrepretive Dance', 99)\n",
            "('Dylan', 'Right', 'Smelting', 95)\n",
            "('William', 'Williams', 'Balling', 91)\n"
          ]
        }
      ]
    },
    {
      "cell_type": "code",
      "source": [
        "import pandas as pd\n",
        "cursor.execute('''\n",
        "    SELECT\n",
        "        s.first_name,\n",
        "        s.last_name,\n",
        "        g.subject,\n",
        "        g.grade\n",
        "    FROM\n",
        "        students s\n",
        "    JOIN\n",
        "        grades g ON s.student_id = g.student_id\n",
        "''')\n",
        "data = cursor.fetchall()\n",
        "\n",
        "# Create a pandas DataFrame\n",
        "df = pd.DataFrame(data, columns=['First Name', 'Last Name', 'Subject', 'Grade'])\n",
        "print(df)"
      ],
      "metadata": {
        "colab": {
          "base_uri": "https://localhost:8080/"
        },
        "id": "YyjckvIK-B_4",
        "outputId": "5527e0a9-0cca-4bbd-a856-22e6e059dda7"
      },
      "execution_count": 40,
      "outputs": [
        {
          "output_type": "stream",
          "name": "stdout",
          "text": [
            "   First Name Last Name             Subject  Grade\n",
            "0       Chloe   Roberts             Balling    100\n",
            "1       Chloe   Roberts            Smelting     87\n",
            "2       Chloe   Roberts  Intrepretive Dance     99\n",
            "3        Owen   McKenna             Balling     86\n",
            "4        Owen   McKenna            Smelting     87\n",
            "5        Owen   McKenna  Intrepretive Dance     60\n",
            "6       Dylan     Right             Balling     56\n",
            "7       Dylan     Right            Smelting     95\n",
            "8       Dylan     Right  Intrepretive Dance     84\n",
            "9     William  Williams             Balling     91\n",
            "10    William  Williams            Smelting     82\n",
            "11    William  Williams  Intrepretive Dance     79\n",
            "12      James     Brown             Balling     89\n",
            "13      James     Brown            Smelting     88\n",
            "14      James     Brown  Intrepretive Dance     90\n"
          ]
        }
      ]
    },
    {
      "cell_type": "code",
      "source": [
        "import matplotlib.pyplot as plt\n",
        "cursor.execute('''\n",
        "    SELECT\n",
        "        s.first_name,\n",
        "        s.last_name,\n",
        "        AVG(g.grade) AS average_grade\n",
        "    FROM\n",
        "        students s\n",
        "    JOIN\n",
        "        grades g ON s.student_id = g.student_id\n",
        "    GROUP BY\n",
        "        s.student_id\n",
        "''')\n",
        "average_grades = cursor.fetchall()\n",
        "connection.close()\n",
        "\n",
        "# Extract names and grades\n",
        "names = [f\"{row[0]} {row[1]}\" for row in average_grades]\n",
        "grades = [row[2] for row in average_grades]\n",
        "\n",
        "# Create the bar chart\n",
        "plt.figure(figsize=(10, 6))\n",
        "plt.bar(names, grades)\n",
        "plt.xlabel(\"Student Name\")\n",
        "plt.ylabel(\"Average Grade\")\n",
        "plt.title(\"Average Grades per Student\")\n",
        "plt.xticks(rotation=45, ha=\"right\")\n",
        "plt.tight_layout()\n",
        "plt.show()"
      ],
      "metadata": {
        "colab": {
          "base_uri": "https://localhost:8080/",
          "height": 607
        },
        "id": "Ag0WtQF3-K8k",
        "outputId": "54d4aa8d-b71a-4d43-e5e3-12bcbe7474d3"
      },
      "execution_count": 41,
      "outputs": [
        {
          "output_type": "display_data",
          "data": {
            "text/plain": [
              "<Figure size 1000x600 with 1 Axes>"
            ],
            "image/png": "[encoded data removed]"
          },
          "metadata": {}
        }
      ]
    }
  ]
}