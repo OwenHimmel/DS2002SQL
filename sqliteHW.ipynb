{
  "nbformat": 4,
  "nbformat_minor": 0,
  "metadata": {
    "colab": {
      "provenance": [],
      "authorship_tag": "ABX9TyOBUN9gsBprFvzV3NxmaNwo",
      "include_colab_link": true
    },
    "kernelspec": {
      "name": "python3",
      "display_name": "Python 3"
    },
    "language_info": {
      "name": "python"
    }
  },
  "cells": [
    {
      "cell_type": "markdown",
      "metadata": {
        "id": "view-in-github",
        "colab_type": "text"
      },
      "source": [
        "<a href=\"https://colab.research.google.com/github/OwenHimmel/DS2002SQL/blob/main/sqliteHW.ipynb\" target=\"_parent\"><img src=\"https://colab.research.google.com/assets/colab-badge.svg\" alt=\"Open In Colab\"/></a>"
      ]
    },
    {
      "cell_type": "code",
      "execution_count": 60,
      "metadata": {
        "id": "D9G6Txnn4XJA"
      },
      "outputs": [],
      "source": [
        "import sqlite3\n",
        "\n",
        "connection = sqlite3.connect('student_grades.db')\n",
        "\n",
        "cursor = connection.cursor()"
      ]
    },
    {
      "cell_type": "code",
      "source": [
        "cursor.execute(\"DROP TABLE IF EXISTS students\")\n",
        "cursor.execute('''\n",
        "CREATE TABLE IF NOT EXISTS students (\n",
        "    student_id INTEGER PRIMARY KEY AUTOINCREMENT,\n",
        "    first_name TEXT NOT NULL,\n",
        "    last_name TEXT NOT NULL\n",
        ")\n",
        "''')\n"
      ],
      "metadata": {
        "colab": {
          "base_uri": "https://localhost:8080/"
        },
        "id": "k715tfuz5o18",
        "outputId": "6b46f3ec-a568-4c3e-daba-6bd5b5821d85"
      },
      "execution_count": 29,
      "outputs": [
        {
          "output_type": "execute_result",
          "data": {
            "text/plain": [
              "<sqlite3.Cursor at 0x7e2b2b28e6c0>"
            ]
          },
          "metadata": {},
          "execution_count": 29
        }
      ]
    },
    {
      "cell_type": "code",
      "source": [
        "cursor.execute(\"DROP TABLE IF EXISTS grades\")\n",
        "cursor.execute('''\n",
        "CREATE TABLE IF NOT EXISTS grades (\n",
        "    grade_id INTEGER PRIMARY KEY AUTOINCREMENT,\n",
        "    student_id INTEGER,\n",
        "    subject TEXT NOT NULL,\n",
        "    grade INTEGER NOT NULL,\n",
        "    FOREIGN KEY (student_id) REFERENCES students(student_id)\n",
        ")\n",
        "''')"
      ],
      "metadata": {
        "colab": {
          "base_uri": "https://localhost:8080/"
        },
        "id": "09Jain6Y5smW",
        "outputId": "ec61b805-0e41-4f6a-e9b9-0afc6485891b"
      },
      "execution_count": 30,
      "outputs": [
        {
          "output_type": "execute_result",
          "data": {
            "text/plain": [
              "<sqlite3.Cursor at 0x7e2b2b28e6c0>"
            ]
          },
          "metadata": {},
          "execution_count": 30
        }
      ]
    },
    {
      "cell_type": "code",
      "source": [],
      "metadata": {
        "id": "0X8Ohs-Q5v_F"
      },
      "execution_count": null,
      "outputs": []
    },
    {
      "cell_type": "code",
      "source": [
        "student_info = [\n",
        "    ('Chloe', 'Roberts'),\n",
        "    ('Owen', 'McKenna'),\n",
        "    ('Dylan', 'Right'),\n",
        "    ('William', 'Williams'),\n",
        "    ('James', 'Brown')\n",
        "]\n",
        "\n",
        "\n",
        "# Insert data into the table\n",
        "cursor.executemany('''\n",
        "INSERT INTO students (first_name, last_name) VALUES (?, ?)\n",
        "''', student_info)\n",
        "\n",
        "connection.commit()"
      ],
      "metadata": {
        "id": "OaNJ-Ptp52Mx"
      },
      "execution_count": 32,
      "outputs": []
    },
    {
      "cell_type": "code",
      "source": [
        "grades_data = [\n",
        "    ('1', 'Balling', '100'),\n",
        "    ('1', 'Smelting', '87'),\n",
        "    ('1', 'Intrepretive Dance', '99'),\n",
        "    ('2', 'Balling', '86'),\n",
        "    ('2', 'Smelting', '87'),\n",
        "    ('2', 'Intrepretive Dance', '60'),\n",
        "    ('3', 'Balling', '56'),\n",
        "    ('3', 'Smelting', '95'),\n",
        "    ('3', 'Intrepretive Dance', '84'),\n",
        "    ('4', 'Balling', '91'),\n",
        "    ('4', 'Smelting', '82'),\n",
        "    ('4', 'Intrepretive Dance', '79'),\n",
        "    ('5', 'Balling', '89'),\n",
        "    ('5', 'Smelting', '88'),\n",
        "    ('5', 'Intrepretive Dance', '90'),\n",
        "\n",
        "]\n",
        "# Insert data into the flavor_details table\n",
        "cursor.executemany('''\n",
        "INSERT INTO grades (student_id, subject, grade) VALUES (?, ?, ?)\n",
        "''', grades_data)\n",
        "\n",
        "\n",
        "\n",
        "# Commit the transaction\n",
        "connection.commit()\n"
      ],
      "metadata": {
        "id": "9Zu2Cleb54G8"
      },
      "execution_count": 33,
      "outputs": []
    },
    {
      "cell_type": "code",
      "source": [
        "cursor.execute('''\n",
        "    SELECT\n",
        "        s.first_name,\n",
        "        s.last_name,\n",
        "        g.subject,\n",
        "        g.grade\n",
        "    FROM\n",
        "        students s\n",
        "    JOIN\n",
        "        grades g ON s.student_id = g.student_id\n",
        "''')\n",
        "name_and_grade = cursor.fetchall()\n",
        "\n",
        "# Print the results\n",
        "print(\"Students and their grades:\")\n",
        "for row in name_and_grade:\n",
        "    fname = row[0]\n",
        "    lname = row[1]\n",
        "    subject = row[2]\n",
        "    grade = row[3]\n",
        "    print(fname + \" \" + lname + \" \" + subject + \" grade: \" +str(grade))"
      ],
      "metadata": {
        "colab": {
          "base_uri": "https://localhost:8080/"
        },
        "id": "flTKnO9K7Lc8",
        "outputId": "8e8be5a8-2945-4cbc-e416-7f42c45851df"
      },
      "execution_count": 46,
      "outputs": [
        {
          "output_type": "stream",
          "name": "stdout",
          "text": [
            "Students and their grades:\n",
            "Chloe Roberts Balling grade: 100\n",
            "Chloe Roberts Smelting grade: 87\n",
            "Chloe Roberts Intrepretive Dance grade: 99\n",
            "Owen McKenna Balling grade: 86\n",
            "Owen McKenna Smelting grade: 87\n",
            "Owen McKenna Intrepretive Dance grade: 60\n",
            "Dylan Right Balling grade: 56\n",
            "Dylan Right Smelting grade: 95\n",
            "Dylan Right Intrepretive Dance grade: 84\n",
            "William Williams Balling grade: 91\n",
            "William Williams Smelting grade: 82\n",
            "William Williams Intrepretive Dance grade: 79\n",
            "James Brown Balling grade: 89\n",
            "James Brown Smelting grade: 88\n",
            "James Brown Intrepretive Dance grade: 90\n"
          ]
        }
      ]
    },
    {
      "cell_type": "code",
      "source": [
        "cursor.execute('''\n",
        "    SELECT\n",
        "        s.first_name,\n",
        "        s.last_name,\n",
        "        ROUND(AVG(g.grade), 2) AS average_grade\n",
        "    FROM\n",
        "        students s\n",
        "    JOIN\n",
        "        grades g ON s.student_id = g.student_id\n",
        "    GROUP BY\n",
        "        s.student_id\n",
        "''')\n",
        "average_grades = cursor.fetchall()\n",
        "\n",
        "# Print the results\n",
        "print(\"Average grades for each student:\")\n",
        "for row in average_grades:\n",
        "    fname = row[0]\n",
        "    lname = row[1]\n",
        "    average_grade = row[2]\n",
        "    print(fname + \" \" + lname + \" average grade: \" +str(average_grade))"
      ],
      "metadata": {
        "colab": {
          "base_uri": "https://localhost:8080/"
        },
        "id": "It_zcXQL7OEk",
        "outputId": "5fe2d18a-c8c8-4cbc-f307-cf8e13b63241"
      },
      "execution_count": 48,
      "outputs": [
        {
          "output_type": "stream",
          "name": "stdout",
          "text": [
            "Average grades for each student:\n",
            "Chloe Roberts average grade: 95.33\n",
            "Owen McKenna average grade: 77.67\n",
            "Dylan Right average grade: 78.33\n",
            "William Williams average grade: 84.0\n",
            "James Brown average grade: 89.0\n"
          ]
        }
      ]
    },
    {
      "cell_type": "code",
      "source": [
        "cursor.execute('''\n",
        "    SELECT\n",
        "        s.first_name,\n",
        "        s.last_name,\n",
        "        ROUND(AVG(g.grade), 2) AS average_grade\n",
        "    FROM\n",
        "        students s\n",
        "    JOIN\n",
        "        grades g ON s.student_id = g.student_id\n",
        "    GROUP BY\n",
        "        s.student_id\n",
        "    ORDER BY\n",
        "        average_grade DESC\n",
        "    LIMIT 1\n",
        "''')\n",
        "highest_grade = cursor.fetchone()\n",
        "\n",
        "# Print the results\n",
        "print(\"Student with the highest average grade:\")\n",
        "fname = highest_grade[0]\n",
        "lname = highest_grade[1]\n",
        "average_grade = highest_grade[2]\n",
        "print(fname + \" \" + lname + \", average grade: \" +str(average_grade))\n",
        "\n"
      ],
      "metadata": {
        "colab": {
          "base_uri": "https://localhost:8080/"
        },
        "id": "qU4W78gC8Aa2",
        "outputId": "55f28114-6774-4ed5-8c98-c63cf8cd35d9"
      },
      "execution_count": 50,
      "outputs": [
        {
          "output_type": "stream",
          "name": "stdout",
          "text": [
            "Student with the highest average grade:\n",
            "Chloe Roberts, average grade: 95.33\n"
          ]
        }
      ]
    },
    {
      "cell_type": "code",
      "source": [
        "cursor.execute('''\n",
        "    SELECT AVG(grade)\n",
        "    FROM grades\n",
        "    WHERE subject = 'Balling'\n",
        "''')\n",
        "average_balling_grade = cursor.fetchone()[0]\n",
        "\n",
        "# Print the result\n",
        "print(\"Average grade in Balling:\", average_balling_grade)\n"
      ],
      "metadata": {
        "colab": {
          "base_uri": "https://localhost:8080/"
        },
        "id": "OMfkKleV8jHs",
        "outputId": "adecac47-2a9f-4776-9074-9e43c0c654b2"
      },
      "execution_count": 38,
      "outputs": [
        {
          "output_type": "stream",
          "name": "stdout",
          "text": [
            "Average grade in Balling: 84.4\n"
          ]
        }
      ]
    },
    {
      "cell_type": "code",
      "source": [
        "cursor.execute('''\n",
        "    SELECT\n",
        "        s.first_name,\n",
        "        s.last_name,\n",
        "        g.subject,\n",
        "        g.grade\n",
        "    FROM\n",
        "        students s\n",
        "    JOIN\n",
        "        grades g ON s.student_id = g.student_id\n",
        "    WHERE\n",
        "        g.grade > 90\n",
        "''')\n",
        "above_90_students = cursor.fetchall()\n",
        "\n",
        "# Print the results\n",
        "print(\"Students with grades above 90:\")\n",
        "for row in above_90_students:\n",
        "    fname = row[0]\n",
        "    lname = row[1]\n",
        "    subject = row[2]\n",
        "    grade = row[3]\n",
        "    print(fname + \" \" + lname + \" in \" + subject + \", grade: \" +str(grade))"
      ],
      "metadata": {
        "colab": {
          "base_uri": "https://localhost:8080/"
        },
        "id": "G6lLJQo08q9G",
        "outputId": "9b17eb34-a5a1-46d6-a647-2523f9c9c205"
      },
      "execution_count": 52,
      "outputs": [
        {
          "output_type": "stream",
          "name": "stdout",
          "text": [
            "Students with grades above 90:\n",
            "Chloe Roberts in Balling, grade: 100\n",
            "Chloe Roberts in Intrepretive Dance, grade: 99\n",
            "Dylan Right in Smelting, grade: 95\n",
            "William Williams in Balling, grade: 91\n"
          ]
        }
      ]
    },
    {
      "cell_type": "code",
      "source": [
        "import pandas as pd\n",
        "cursor.execute('''\n",
        "    SELECT\n",
        "        s.first_name,\n",
        "        s.last_name,\n",
        "        g.subject,\n",
        "        g.grade\n",
        "    FROM\n",
        "        students s\n",
        "    JOIN\n",
        "        grades g ON s.student_id = g.student_id\n",
        "''')\n",
        "data = cursor.fetchall()\n",
        "\n",
        "# Create a pandas DataFrame\n",
        "df = pd.DataFrame(data, columns=['First Name', 'Last Name', 'Subject', 'Grade'])\n",
        "print(df)"
      ],
      "metadata": {
        "colab": {
          "base_uri": "https://localhost:8080/"
        },
        "id": "YyjckvIK-B_4",
        "outputId": "5527e0a9-0cca-4bbd-a856-22e6e059dda7"
      },
      "execution_count": 40,
      "outputs": [
        {
          "output_type": "stream",
          "name": "stdout",
          "text": [
            "   First Name Last Name             Subject  Grade\n",
            "0       Chloe   Roberts             Balling    100\n",
            "1       Chloe   Roberts            Smelting     87\n",
            "2       Chloe   Roberts  Intrepretive Dance     99\n",
            "3        Owen   McKenna             Balling     86\n",
            "4        Owen   McKenna            Smelting     87\n",
            "5        Owen   McKenna  Intrepretive Dance     60\n",
            "6       Dylan     Right             Balling     56\n",
            "7       Dylan     Right            Smelting     95\n",
            "8       Dylan     Right  Intrepretive Dance     84\n",
            "9     William  Williams             Balling     91\n",
            "10    William  Williams            Smelting     82\n",
            "11    William  Williams  Intrepretive Dance     79\n",
            "12      James     Brown             Balling     89\n",
            "13      James     Brown            Smelting     88\n",
            "14      James     Brown  Intrepretive Dance     90\n"
          ]
        }
      ]
    },
    {
      "cell_type": "code",
      "source": [
        "import matplotlib.pyplot as plt\n",
        "cursor.execute('''\n",
        "    SELECT\n",
        "        s.first_name,\n",
        "        s.last_name,\n",
        "        AVG(g.grade) AS average_grade\n",
        "    FROM\n",
        "        students s\n",
        "    JOIN\n",
        "        grades g ON s.student_id = g.student_id\n",
        "    GROUP BY\n",
        "        s.student_id\n",
        "''')\n",
        "average_grades = cursor.fetchall()\n",
        "\n",
        "\n",
        "# Extract names and grades\n",
        "names = [f\"{row[0]} {row[1]}\" for row in average_grades]\n",
        "grades = [row[2] for row in average_grades]\n",
        "\n",
        "# Create the bar chart\n",
        "plt.figure(figsize=(10, 8))\n",
        "plt.bar(names, grades)\n",
        "plt.xlabel(\"Student Name\")\n",
        "plt.ylabel(\"Average Grade\")\n",
        "plt.title(\"Average Grades for each Student\")\n",
        "plt.show()"
      ],
      "metadata": {
        "colab": {
          "base_uri": "https://localhost:8080/",
          "height": 718
        },
        "id": "Ag0WtQF3-K8k",
        "outputId": "ab3e8d7a-39b2-452c-835a-f4da5be5aa30"
      },
      "execution_count": 63,
      "outputs": [
        {
          "output_type": "display_data",
          "data": {
            "text/plain": [
              "<Figure size 1000x800 with 1 Axes>"
            ],
            "image/png": "[encoded data removed]"
          },
          "metadata": {}
        }
      ]
    }
  ]
}